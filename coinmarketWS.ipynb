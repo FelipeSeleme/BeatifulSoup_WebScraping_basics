{
 "cells": [
  {
   "cell_type": "markdown",
   "metadata": {},
   "source": [
    "# Exemplo prático"
   ]
  },
  {
   "cell_type": "markdown",
   "metadata": {},
   "source": [
    "#### Buscando cotações de criptomoedas no site CoinMarketCap"
   ]
  },
  {
   "cell_type": "code",
   "execution_count": 6,
   "metadata": {},
   "outputs": [],
   "source": [
    "from bs4 import BeautifulSoup  # biblioteca para web scraping\n",
    "import requests  # biblioteca para requisições HTTP\n",
    "\n",
    "link = 'https://coinmarketcap.com/'  # link da página\n",
    "requisicao = requests.get(link)  # requisição HTTP\n",
    "site = BeautifulSoup(requisicao.content, 'html.parser')  # objeto BeautifulSoup"
   ]
  },
  {
   "cell_type": "markdown",
   "metadata": {},
   "source": [
    "Print da tela do site CoinMarketCap:"
   ]
  },
  {
   "cell_type": "markdown",
   "metadata": {},
   "source": [
    "<img src=\"tabelacripto.png\" alt=\"Tabela de criptomoedas\">"
   ]
  },
  {
   "cell_type": "code",
   "execution_count": 21,
   "metadata": {},
   "outputs": [
    {
     "name": "stdout",
     "output_type": "stream",
     "text": [
      "Bitcoin\n",
      "['$30,133.26', '$584.33B', '$584,333,791,973', '$16,416,563,119']\n",
      "-----------------------------------\n",
      "Ethereum\n",
      "['$1,874.93', '$225.13B', '$225,130,560,233', '$6,127,500,394']\n",
      "-----------------------------------\n",
      "Tether\n",
      "['$1.00', '$83.2B', '$83,201,523,739', '$23,529,089,199']\n",
      "-----------------------------------\n",
      "BNB\n",
      "['$242.80', '$37.84B', '$37,840,223,048', '$445,844,640']\n",
      "-----------------------------------\n",
      "USD Coin\n",
      "['$0.9999', '$28.44B', '$28,436,842,988', '$3,825,468,963']\n",
      "-----------------------------------\n",
      "XRP\n",
      "['$0.488', '$25.42B', '$25,422,511,959', '$945,831,500']\n",
      "-----------------------------------\n",
      "Cardano\n",
      "['$0.2893', '$10.11B', '$10,105,730,989', '$197,525,447']\n",
      "-----------------------------------\n",
      "Dogecoin\n",
      "['$0.0658', '$9.2B', '$9,203,858,861', '$225,957,014']\n",
      "-----------------------------------\n",
      "Solana\n",
      "['$16.28', '$6.51B', '$6,508,167,382', '$233,589,384']\n",
      "-----------------------------------\n",
      "TRON\n",
      "['$0.07193', '$6.47B', '$6,473,115,430', '$152,144,769']\n",
      "-----------------------------------\n"
     ]
    },
    {
     "ename": "AttributeError",
     "evalue": "'NoneType' object has no attribute 'text'",
     "output_type": "error",
     "traceback": [
      "\u001b[1;31m---------------------------------------------------------------------------\u001b[0m",
      "\u001b[1;31mAttributeError\u001b[0m                            Traceback (most recent call last)",
      "Cell \u001b[1;32mIn[21], line 6\u001b[0m\n\u001b[0;32m      4\u001b[0m linhas \u001b[39m=\u001b[39m tbody\u001b[39m.\u001b[39mfind_all(\u001b[39m'\u001b[39m\u001b[39mtr\u001b[39m\u001b[39m'\u001b[39m)  \u001b[39m# seleciona as linhas da tabela\u001b[39;00m\n\u001b[0;32m      5\u001b[0m \u001b[39mfor\u001b[39;00m linha \u001b[39min\u001b[39;00m linhas:\n\u001b[1;32m----> 6\u001b[0m     \u001b[39mprint\u001b[39m(linha\u001b[39m.\u001b[39;49mfind(class_\u001b[39m=\u001b[39;49m\u001b[39m\"\u001b[39;49m\u001b[39mkKpPOn\u001b[39;49m\u001b[39m\"\u001b[39;49m)\u001b[39m.\u001b[39;49mtext)  \u001b[39m# seleciona o nome da moeda\u001b[39;00m\n\u001b[0;32m      7\u001b[0m     \u001b[39mprint\u001b[39m(linha\u001b[39m.\u001b[39mfind_all(string\u001b[39m=\u001b[39mre\u001b[39m.\u001b[39mcompile(\u001b[39m\"\u001b[39m\u001b[39m\\\u001b[39m\u001b[39m$\u001b[39m\u001b[39m\"\u001b[39m)))  \u001b[39m# seleciona os preço da moeda\u001b[39;00m\n\u001b[0;32m      8\u001b[0m     \u001b[39mprint\u001b[39m(\u001b[39m'\u001b[39m\u001b[39m-----------------------------------\u001b[39m\u001b[39m'\u001b[39m)  \u001b[39m# separador\u001b[39;00m\n",
      "\u001b[1;31mAttributeError\u001b[0m: 'NoneType' object has no attribute 'text'"
     ]
    }
   ],
   "source": [
    "import re  # biblioteca para expressões regulares\n",
    "\n",
    "tbody = site.find('tbody')  # seleciona o corpo da tabela\n",
    "linhas = tbody.find_all('tr')  # seleciona as linhas da tabela\n",
    "for linha in linhas:\n",
    "    print(linha.find(class_=\"kKpPOn\").text)  # seleciona o nome da moeda\n",
    "    print(linha.find_all(string=re.compile(\"\\$\")))  # seleciona os valores da moeda\n",
    "    print('-----------------------------------')  # separador"
   ]
  },
  {
   "cell_type": "markdown",
   "metadata": {},
   "source": [
    "O erro ocorre em elementos que só são carregados após a página ser carregada, como é o caso da tabela de criptomoedas."
   ]
  },
  {
   "cell_type": "code",
   "execution_count": 22,
   "metadata": {},
   "outputs": [
    {
     "name": "stdout",
     "output_type": "stream",
     "text": [
      "Bitcoin\n",
      "['$30,133.26', '$584.33B', '$584,333,791,973', '$16,416,563,119']\n",
      "-----------------------------------\n",
      "Ethereum\n",
      "['$1,874.93', '$225.13B', '$225,130,560,233', '$6,127,500,394']\n",
      "-----------------------------------\n",
      "Tether\n",
      "['$1.00', '$83.2B', '$83,201,523,739', '$23,529,089,199']\n",
      "-----------------------------------\n",
      "BNB\n",
      "['$242.80', '$37.84B', '$37,840,223,048', '$445,844,640']\n",
      "-----------------------------------\n",
      "USD Coin\n",
      "['$0.9999', '$28.44B', '$28,436,842,988', '$3,825,468,963']\n",
      "-----------------------------------\n",
      "XRP\n",
      "['$0.488', '$25.42B', '$25,422,511,959', '$945,831,500']\n",
      "-----------------------------------\n",
      "Cardano\n",
      "['$0.2893', '$10.11B', '$10,105,730,989', '$197,525,447']\n",
      "-----------------------------------\n",
      "Dogecoin\n",
      "['$0.0658', '$9.2B', '$9,203,858,861', '$225,957,014']\n",
      "-----------------------------------\n",
      "Solana\n",
      "['$16.28', '$6.51B', '$6,508,167,382', '$233,589,384']\n",
      "-----------------------------------\n",
      "TRON\n",
      "['$0.07193', '$6.47B', '$6,473,115,430', '$152,144,769']\n",
      "-----------------------------------\n"
     ]
    }
   ],
   "source": [
    "# Adicionar um try except para tratar o AttributeError\n",
    "for linha in linhas:\n",
    "    try:\n",
    "        print(linha.find(class_=\"kKpPOn\").text)  # seleciona o nome da moeda\n",
    "        print(linha.find_all(string=re.compile(\"\\$\")))  # seleciona os valores da moeda\n",
    "        print('-----------------------------------')  # separador\n",
    "    except AttributeError:\n",
    "        break"
   ]
  },
  {
   "cell_type": "code",
   "execution_count": 23,
   "metadata": {},
   "outputs": [
    {
     "name": "stdout",
     "output_type": "stream",
     "text": [
      "Bitcoin\n",
      "$30,133.26\n",
      "-----------------------------------\n",
      "Ethereum\n",
      "$1,874.93\n",
      "-----------------------------------\n",
      "Tether\n",
      "$1.00\n",
      "-----------------------------------\n",
      "BNB\n",
      "$242.80\n",
      "-----------------------------------\n",
      "USD Coin\n",
      "$0.9999\n",
      "-----------------------------------\n",
      "XRP\n",
      "$0.488\n",
      "-----------------------------------\n",
      "Cardano\n",
      "$0.2893\n",
      "-----------------------------------\n",
      "Dogecoin\n",
      "$0.0658\n",
      "-----------------------------------\n",
      "Solana\n",
      "$16.28\n",
      "-----------------------------------\n",
      "TRON\n",
      "$0.07193\n",
      "-----------------------------------\n"
     ]
    }
   ],
   "source": [
    "# Pegar somente o preço da moeda\n",
    "for linha in linhas:\n",
    "    try:\n",
    "        print(linha.find(class_=\"kKpPOn\").text)  # seleciona o nome da moeda\n",
    "        print(linha.find_all(string=re.compile(\"\\$\"))[0])  # seleciona o prerço da moeda\n",
    "        print('-----------------------------------')  # separador\n",
    "    except AttributeError:\n",
    "        break"
   ]
  },
  {
   "cell_type": "markdown",
   "metadata": {},
   "source": [
    "#### Buscar todos os textos de cada linha da tabela de criptomoedas\n"
   ]
  },
  {
   "cell_type": "code",
   "execution_count": 29,
   "metadata": {},
   "outputs": [
    {
     "name": "stdout",
     "output_type": "stream",
     "text": [
      "['1', 'Bitcoin', '1', 'BTC', '$30,133.26', '0.16%', '0.07%', '18.25%', '$584.33B', '$584,333,791,973', '$16,416,563,119', '545,311 BTC', '19,409,887 BTC']\n",
      "['2', 'Ethereum', '2', 'ETH', '$1,874.93', '0.02%', '0.93%', '12.79%', '$225.13B', '$225,130,560,233', '$6,127,500,394', '3,271,453 ETH', '120,196,489 ETH']\n",
      "['3', 'Tether', '3', 'USDT', '$1.00', '0.02%', '0.04%', '0.14%', '$83.2B', '$83,201,523,739', '$23,529,089,199', '23,522,163,906 USDT', '83,177,035,118 USDT']\n",
      "['4', 'BNB', '4', 'BNB', '$242.80', '0.02%', '1.86%', '3.22%', '$37.84B', '$37,840,223,048', '$445,844,640', '1,836,300 BNB', '155,852,511 BNB']\n",
      "['5', 'USD Coin', '5', 'USDC', '$0.9999', '0.00%', '0.05%', '0.01%', '$28.44B', '$28,436,842,988', '$3,825,468,963', '3,825,571,759 USDC', '28,437,607,127 USDC']\n",
      "['6', 'XRP', '6', 'XRP', '$0.488', '0.41%', '2.24%', '5.21%', '$25.42B', '$25,422,511,959', '$945,831,500', '1,938,302,799 XRP', '52,098,630,775 XRP']\n",
      "['7', 'Cardano', '7', 'ADA', '$0.2893', '0.61%', '1.63%', '12.42%', '$10.11B', '$10,105,730,989', '$197,525,447', '682,771,640 ADA', '34,931,734,726 ADA']\n",
      "['8', 'Dogecoin', '8', 'DOGE', '$0.0658', '0.23%', '1.25%', '7.41%', '$9.2B', '$9,203,858,861', '$225,957,014', '3,434,245,176 DOGE', '139,886,376,384 DOGE']\n",
      "['9', 'Solana', '9', 'SOL', '$16.28', '0.90%', '4.23%', '11.46%', '$6.51B', '$6,508,167,382', '$233,589,384', '14,344,449 SOL', '399,658,895 SOL']\n",
      "['10', 'TRON', '10', 'TRX', '$0.07193', '0.00%', '0.40%', '3.50%', '$6.47B', '$6,473,115,430', '$152,144,769', '2,115,210,108 TRX', '89,993,229,992 TRX']\n",
      "['Litecoin', 'LTC', '$', '85.92']\n",
      "['Polygon', 'MATIC', '$', '0.66']\n",
      "['Polkadot', 'DOT', '$', '4.93']\n",
      "['Toncoin', 'TON', '$', '1.39']\n",
      "['Wrapped Bitcoin', 'WBTC', '$', '30062.25']\n",
      "['Dai', 'DAI', '$', '1.00']\n",
      "['Shiba Inu', 'SHIB', '$', '0.00']\n",
      "['Avalanche', 'AVAX', '$', '12.74']\n",
      "['Binance USD', 'BUSD', '$', '1.00']\n",
      "['UNUS SED LEO', 'LEO', '$', '3.93']\n",
      "['Cosmos', 'ATOM', '$', '9.16']\n",
      "['Chainlink', 'LINK', '$', '5.86']\n",
      "['TrueUSD', 'TUSD', '$', '1.00']\n",
      "['Bitcoin Cash', 'BCH', '$', '143.32']\n",
      "['Monero', 'XMR', '$', '151.63']\n",
      "['Uniswap', 'UNI', '$', '4.75']\n",
      "['OKB', 'OKB', '$', '44.29']\n",
      "['Ethereum Classic', 'ETC', '$', '16.90']\n",
      "['Stellar', 'XLM', '$', '0.09']\n",
      "['Internet Computer', 'ICP', '$', '4.19']\n",
      "['Filecoin', 'FIL', '$', '3.98']\n",
      "['Lido DAO', 'LDO', '$', '1.88']\n",
      "['Hedera', 'HBAR', '$', '0.05']\n",
      "['Aptos', 'APT', '$', '7.44']\n",
      "['Cronos', 'CRO', '$', '0.06']\n",
      "['Arbitrum', 'ARB', '$', '1.11']\n",
      "['VeChain', 'VET', '$', '0.02']\n",
      "['Quant', 'QNT', '$', '103.76']\n",
      "['NEAR Protocol', 'NEAR', '$', '1.34']\n",
      "['Stacks', 'STX', '$', '0.77']\n",
      "['Pax Dollar', 'USDP', '$', '1.00']\n",
      "['The Graph', 'GRT', '$', '0.11']\n",
      "['Algorand', 'ALGO', '$', '0.13']\n",
      "['Optimism', 'OP', '$', '1.39']\n",
      "['MultiversX', 'EGLD', '$', '32.77']\n",
      "['Fantom', 'FTM', '$', '0.29']\n",
      "['Aave', 'AAVE', '$', '55.65']\n",
      "['ApeCoin', 'APE', '$', '2.17']\n",
      "['Render Token', 'RNDR', '$', '2.16']\n",
      "['The Sandbox', 'SAND', '$', '0.42']\n",
      "['BitDAO', 'BIT', '$', '0.43']\n",
      "['Rocket Pool', 'RPL', '$', '40.07']\n",
      "['Conflux', 'CFX', '$', '0.26']\n",
      "['EOS', 'EOS', '$', '0.69']\n",
      "['Immutable', 'IMX', '$', '0.72']\n",
      "['USDD', 'USDD', '$', '1.00']\n",
      "['Tezos', 'XTZ', '$', '0.77']\n",
      "['Theta Network', 'THETA', '$', '0.72']\n",
      "['Decentraland', 'MANA', '$', '0.38']\n",
      "['Maker', 'MKR', '$', '726.23']\n",
      "['KuCoin Token', 'KCS', '$', '6.65']\n",
      "['Axie Infinity', 'AXS', '$', '5.48']\n",
      "['Neo', 'NEO', '$', '8.94']\n",
      "['Pepe', 'PEPE', '$', '0.00']\n",
      "['Bitcoin SV', 'BSV', '$', '30.22']\n",
      "['Curve DAO Token', 'CRV', '$', '0.67']\n",
      "['Injective', 'INJ', '$', '7.15']\n",
      "['Gemini Dollar', 'GUSD', '$', '1.00']\n",
      "['Flow', 'FLOW', '$', '0.53']\n",
      "['Gala', 'GALA', '$', '0.03']\n",
      "['Terra Classic', 'LUNC', '$', '0.00']\n",
      "['Kava', 'KAVA', '$', '0.91']\n",
      "['Klaytn', 'KLAY', '$', '0.17']\n",
      "['Chiliz', 'CHZ', '$', '0.08']\n",
      "['Synthetix', 'SNX', '$', '1.91']\n",
      "['PAX Gold', 'PAXG', '$', '1915.06']\n",
      "['IOTA', 'MIOTA', '$', '0.17']\n",
      "['Sui', 'SUI', '$', '0.79']\n",
      "['Tether Gold', 'XAUT', '$', '1931.09']\n",
      "['GMX', 'GMX', '$', '53.98']\n",
      "['Casper', 'CSPR', '$', '0.04']\n",
      "['XDC Network', 'XDC', '$', '0.03']\n",
      "['eCash', 'XEC', '$', '0.00']\n",
      "['BitTorrent(New)', 'BTT', '$', '0.00']\n",
      "['Zcash', 'ZEC', '$', '27.46']\n",
      "['Huobi Token', 'HT', '$', '2.67']\n",
      "['Mina', 'MINA', '$', '0.47']\n",
      "['Frax Share', 'FXS', '$', '5.76']\n",
      "['GateToken', 'GT', '$', '4.25']\n",
      "['Trust Wallet Token', 'TWT', '$', '0.93']\n",
      "['Dash', 'DASH', '$', '33.58']\n",
      "['WOO Network', 'WOO', '$', '0.21']\n",
      "['Nexo', 'NEXO', '$', '0.65']\n",
      "['Zilliqa', 'ZIL', '$', '0.02']\n",
      "['THORChain', 'RUNE', '$', '0.94']\n",
      "['Mask Network', 'MASK', '$', '3.69']\n",
      "['SingularityNET', 'AGIX', '$', '0.24']\n",
      "['Gnosis', 'GNO', '$', '115.21']\n",
      "['Loopring', 'LRC', '$', '0.22']\n",
      "['Convex Finance', 'CVX', '$', '3.74']\n"
     ]
    }
   ],
   "source": [
    "tbody = site.find('tbody')  # seleciona o corpo da tabela\n",
    "linhas = tbody.find_all('tr')  # seleciona as linhas da tabela\n",
    "\n",
    "for linha in linhas:\n",
    "    texto_linha = linha.get_text(separator=\";\")  # separa o texto da linha por ;\n",
    "    lista_textos = texto_linha.split(';')  # separa o texto da linha por ;\n",
    "    print(lista_textos)"
   ]
  },
  {
   "cell_type": "code",
   "execution_count": 34,
   "metadata": {},
   "outputs": [
    {
     "name": "stdout",
     "output_type": "stream",
     "text": [
      "Bitcoin $30,133.26\n",
      "Ethereum $1,874.93\n",
      "Tether $1.00\n",
      "BNB $242.80\n",
      "USD Coin $0.9999\n",
      "XRP $0.488\n",
      "Cardano $0.2893\n",
      "Dogecoin $0.0658\n",
      "Solana $16.28\n",
      "TRON $0.07193\n"
     ]
    }
   ],
   "source": [
    "for linha in linhas:\n",
    "    try:    \n",
    "        texto_linha = linha.get_text(separator=\";\")  # separa o texto da linha por ;\n",
    "        lista_textos = texto_linha.split(';')  # separa o texto da linha por ;\n",
    "        nome = lista_textos[1]  # nome da moeda\n",
    "        preco = lista_textos[4]  # preço da moeda\n",
    "        print(nome, preco)\n",
    "    except IndexError:\n",
    "        break"
   ]
  },
  {
   "cell_type": "markdown",
   "metadata": {},
   "source": [
    "# Preparando os dados para uma API"
   ]
  },
  {
   "cell_type": "code",
   "execution_count": 35,
   "metadata": {},
   "outputs": [
    {
     "name": "stdout",
     "output_type": "stream",
     "text": [
      "1Bitcoin1BTC$30,133.260.16%0.07%18.25%$584.33B$584,333,791,973$16,416,563,119545,311 BTC19,409,887 BTC\n"
     ]
    }
   ],
   "source": [
    "# Visualizar o conteúdo de uma linha\n",
    "print(linhas[0].text)"
   ]
  },
  {
   "cell_type": "markdown",
   "metadata": {},
   "source": [
    "#### Extrair as informações da tabela de criptomoedas"
   ]
  },
  {
   "cell_type": "code",
   "execution_count": 43,
   "metadata": {},
   "outputs": [
    {
     "name": "stdout",
     "output_type": "stream",
     "text": [
      "Bitcoin BTC $30,133.26 0.16% 0.07% 18.25% $584.33B $584,333,791,973\n",
      "Ethereum ETH $1,874.93 0.02% 0.93% 12.79% $225.13B $225,130,560,233\n",
      "Tether USDT $1.00 0.02% 0.04% 0.14% $83.2B $83,201,523,739\n",
      "BNB BNB $242.80 0.02% 1.86% 3.22% $37.84B $37,840,223,048\n",
      "USD Coin USDC $0.9999 0.00% 0.05% 0.01% $28.44B $28,436,842,988\n",
      "XRP XRP $0.488 0.41% 2.24% 5.21% $25.42B $25,422,511,959\n",
      "Cardano ADA $0.2893 0.61% 1.63% 12.42% $10.11B $10,105,730,989\n",
      "Dogecoin DOGE $0.0658 0.23% 1.25% 7.41% $9.2B $9,203,858,861\n",
      "Solana SOL $16.28 0.90% 4.23% 11.46% $6.51B $6,508,167,382\n",
      "TRON TRX $0.07193 0.00% 0.40% 3.50% $6.47B $6,473,115,430\n"
     ]
    }
   ],
   "source": [
    "for linha in linhas:\n",
    "    try:\n",
    "        nome = linha.find(class_=\"kKpPOn\").text  # nome da moeda\n",
    "        codigo = linha.find(class_=\"coin-item-symbol\").text  # código da moeda\n",
    "        preco = linha.find_all(string=re.compile(\"\\$\"))[0]  # preço da moeda\n",
    "        var_1h = linha.find_all(string=re.compile(\"%\"))[0]  # variação em 1h\n",
    "        var_24h = linha.find_all(string=re.compile(\"%\"))[1]  # variação em 24h\n",
    "        var_7d = linha.find_all(string=re.compile(\"%\"))[2]  # variação em 7d\n",
    "        market_cap = linha.find_all(string=re.compile(\"\\$\"))[1]  # market cap\n",
    "        volume = linha.find_all(string=re.compile(\"\\$\"))[2]  # volume\n",
    "        print(nome, codigo, preco, var_1h, var_24h, var_7d, market_cap, volume)\n",
    "    except AttributeError:\n",
    "        break"
   ]
  },
  {
   "cell_type": "markdown",
   "metadata": {},
   "source": [
    "#### Organizar em um dicionário"
   ]
  },
  {
   "cell_type": "code",
   "execution_count": 44,
   "metadata": {},
   "outputs": [
    {
     "name": "stdout",
     "output_type": "stream",
     "text": [
      "{'nome': 'Bitcoin', 'codigo': 'BTC', 'preco': '$30,133.26', 'var_1h': '0.16%', 'var_24h': '0.07%', 'var_7d': '18.25%', 'market_cap': '$584.33B', 'volume': '$584,333,791,973'}\n",
      "{'nome': 'Ethereum', 'codigo': 'ETH', 'preco': '$1,874.93', 'var_1h': '0.02%', 'var_24h': '0.93%', 'var_7d': '12.79%', 'market_cap': '$225.13B', 'volume': '$225,130,560,233'}\n",
      "{'nome': 'Tether', 'codigo': 'USDT', 'preco': '$1.00', 'var_1h': '0.02%', 'var_24h': '0.04%', 'var_7d': '0.14%', 'market_cap': '$83.2B', 'volume': '$83,201,523,739'}\n",
      "{'nome': 'BNB', 'codigo': 'BNB', 'preco': '$242.80', 'var_1h': '0.02%', 'var_24h': '1.86%', 'var_7d': '3.22%', 'market_cap': '$37.84B', 'volume': '$37,840,223,048'}\n",
      "{'nome': 'USD Coin', 'codigo': 'USDC', 'preco': '$0.9999', 'var_1h': '0.00%', 'var_24h': '0.05%', 'var_7d': '0.01%', 'market_cap': '$28.44B', 'volume': '$28,436,842,988'}\n",
      "{'nome': 'XRP', 'codigo': 'XRP', 'preco': '$0.488', 'var_1h': '0.41%', 'var_24h': '2.24%', 'var_7d': '5.21%', 'market_cap': '$25.42B', 'volume': '$25,422,511,959'}\n",
      "{'nome': 'Cardano', 'codigo': 'ADA', 'preco': '$0.2893', 'var_1h': '0.61%', 'var_24h': '1.63%', 'var_7d': '12.42%', 'market_cap': '$10.11B', 'volume': '$10,105,730,989'}\n",
      "{'nome': 'Dogecoin', 'codigo': 'DOGE', 'preco': '$0.0658', 'var_1h': '0.23%', 'var_24h': '1.25%', 'var_7d': '7.41%', 'market_cap': '$9.2B', 'volume': '$9,203,858,861'}\n",
      "{'nome': 'Solana', 'codigo': 'SOL', 'preco': '$16.28', 'var_1h': '0.90%', 'var_24h': '4.23%', 'var_7d': '11.46%', 'market_cap': '$6.51B', 'volume': '$6,508,167,382'}\n",
      "{'nome': 'TRON', 'codigo': 'TRX', 'preco': '$0.07193', 'var_1h': '0.00%', 'var_24h': '0.40%', 'var_7d': '3.50%', 'market_cap': '$6.47B', 'volume': '$6,473,115,430'}\n"
     ]
    }
   ],
   "source": [
    "for linha in linhas:\n",
    "    try:\n",
    "        nome = linha.find(class_=\"kKpPOn\").text  # nome da moeda\n",
    "        codigo = linha.find(class_=\"coin-item-symbol\").text  # código da moeda\n",
    "        preco = linha.find_all(string=re.compile(\"\\$\"))[0]  # preço da moeda\n",
    "        var_1h = linha.find_all(string=re.compile(\"%\"))[0]  # variação em 1h\n",
    "        var_24h = linha.find_all(string=re.compile(\"%\"))[1]  # variação em 24h\n",
    "        var_7d = linha.find_all(string=re.compile(\"%\"))[2]  # variação em 7d\n",
    "        market_cap = linha.find_all(string=re.compile(\"\\$\"))[1]  # market cap\n",
    "        volume = linha.find_all(string=re.compile(\"\\$\"))[2]  # volume\n",
    "        dic = {'nome': nome, \n",
    "               'codigo': codigo, \n",
    "               'preco': preco, \n",
    "               'var_1h': var_1h, \n",
    "               'var_24h': var_24h, \n",
    "               'var_7d': var_7d, \n",
    "               'market_cap': market_cap, \n",
    "               'volume': volume}\n",
    "        print(dic)\n",
    "    except AttributeError:\n",
    "        break"
   ]
  },
  {
   "cell_type": "markdown",
   "metadata": {},
   "source": [
    "#### Ajustar os percentuais de acordo com as variações de ALTA ou QUEDA"
   ]
  },
  {
   "cell_type": "code",
   "execution_count": 47,
   "metadata": {},
   "outputs": [
    {
     "name": "stdout",
     "output_type": "stream",
     "text": [
      "{'nome': 'Bitcoin', 'codigo': 'BTC', 'preco': '$30,133.26', 'var_1h': '0.16%', 'var_24h': '-0.07%', 'var_7d': '18.25%', 'market_cap': '$584,333,791,973', 'volume': '$16,416,563,119'}\n",
      "{'nome': 'Ethereum', 'codigo': 'ETH', 'preco': '$1,874.93', 'var_1h': '0.02%', 'var_24h': '-0.93%', 'var_7d': '12.79%', 'market_cap': '$225,130,560,233', 'volume': '$6,127,500,394'}\n",
      "{'nome': 'Tether', 'codigo': 'USDT', 'preco': '$1.00', 'var_1h': '0.02%', 'var_24h': '-0.04%', 'var_7d': '0.14%', 'market_cap': '$83,201,523,739', 'volume': '$23,529,089,199'}\n",
      "{'nome': 'BNB', 'codigo': 'BNB', 'preco': '$242.80', 'var_1h': '-0.02%', 'var_24h': '-1.86%', 'var_7d': '3.22%', 'market_cap': '$37,840,223,048', 'volume': '$445,844,640'}\n",
      "{'nome': 'USD Coin', 'codigo': 'USDC', 'preco': '$0.9999', 'var_1h': '0.00%', 'var_24h': '-0.05%', 'var_7d': '-0.01%', 'market_cap': '$28,436,842,988', 'volume': '$3,825,468,963'}\n",
      "{'nome': 'XRP', 'codigo': 'XRP', 'preco': '$0.488', 'var_1h': '-0.41%', 'var_24h': '-2.24%', 'var_7d': '5.21%', 'market_cap': '$25,422,511,959', 'volume': '$945,831,500'}\n",
      "{'nome': 'Cardano', 'codigo': 'ADA', 'preco': '$0.2893', 'var_1h': '-0.61%', 'var_24h': '-1.63%', 'var_7d': '12.42%', 'market_cap': '$10,105,730,989', 'volume': '$197,525,447'}\n",
      "{'nome': 'Dogecoin', 'codigo': 'DOGE', 'preco': '$0.0658', 'var_1h': '-0.23%', 'var_24h': '-1.25%', 'var_7d': '7.41%', 'market_cap': '$9,203,858,861', 'volume': '$225,957,014'}\n",
      "{'nome': 'Solana', 'codigo': 'SOL', 'preco': '$16.28', 'var_1h': '-0.90%', 'var_24h': '-4.23%', 'var_7d': '11.46%', 'market_cap': '$6,508,167,382', 'volume': '$233,589,384'}\n",
      "{'nome': 'TRON', 'codigo': 'TRX', 'preco': '$0.07193', 'var_1h': '-0.00%', 'var_24h': '-0.40%', 'var_7d': '3.50%', 'market_cap': '$6,473,115,430', 'volume': '$152,144,769'}\n"
     ]
    }
   ],
   "source": [
    "for linha in linhas:\n",
    "    try:\n",
    "        valores = linha.find_all(string=re.compile(\"\\$\"))  # seleciona todos os valores\n",
    "        percentuais = linha.find_all(string=re.compile(\"%\"))  # seleciona todos os percentuais\n",
    "        \n",
    "        # Verifica se o percentual é negativo e aplica o sinal negativo\n",
    "        for i, percentual in enumerate(percentuais):\n",
    "            if \"bQjSqS\" in percentual.parent['class']:\n",
    "                percentuais[i] = '-' + percentual\n",
    "\n",
    "        nome = linha.find(class_=\"kKpPOn\").text  # nome da moeda\n",
    "        codigo = linha.find(class_=\"coin-item-symbol\").text  # código da moeda\n",
    "        preco = valores[0]  # preço da moeda\n",
    "        var_1h = percentuais[0]  # variação em 1h\n",
    "        var_24h = percentuais[1]  # variação em 24h\n",
    "        var_7d = percentuais[2]  # variação em 7d\n",
    "        market_cap = valores[2]  # market cap\n",
    "        volume = valores[3]  # volume\n",
    "\n",
    "        dic = {'nome': nome, \n",
    "               'codigo': codigo, \n",
    "               'preco': preco, \n",
    "               'var_1h': var_1h, \n",
    "               'var_24h': var_24h, \n",
    "               'var_7d': var_7d, \n",
    "               'market_cap': market_cap, \n",
    "               'volume': volume}\n",
    "        \n",
    "        print(dic)\n",
    "    except AttributeError:\n",
    "        break"
   ]
  },
  {
   "cell_type": "markdown",
   "metadata": {},
   "source": [
    "#### Consolidar as informações em um único dicionário"
   ]
  },
  {
   "cell_type": "code",
   "execution_count": 48,
   "metadata": {},
   "outputs": [
    {
     "name": "stdout",
     "output_type": "stream",
     "text": [
      "{'Bitcoin': {'nome': 'Bitcoin', 'codigo': 'BTC', 'preco': '$30,133.26', 'var_1h': '0.16%', 'var_24h': '-0.07%', 'var_7d': '18.25%', 'market_cap': '$584,333,791,973', 'volume': '$16,416,563,119'}, 'Ethereum': {'nome': 'Ethereum', 'codigo': 'ETH', 'preco': '$1,874.93', 'var_1h': '0.02%', 'var_24h': '-0.93%', 'var_7d': '12.79%', 'market_cap': '$225,130,560,233', 'volume': '$6,127,500,394'}, 'Tether': {'nome': 'Tether', 'codigo': 'USDT', 'preco': '$1.00', 'var_1h': '0.02%', 'var_24h': '-0.04%', 'var_7d': '0.14%', 'market_cap': '$83,201,523,739', 'volume': '$23,529,089,199'}, 'BNB': {'nome': 'BNB', 'codigo': 'BNB', 'preco': '$242.80', 'var_1h': '-0.02%', 'var_24h': '-1.86%', 'var_7d': '3.22%', 'market_cap': '$37,840,223,048', 'volume': '$445,844,640'}, 'USD Coin': {'nome': 'USD Coin', 'codigo': 'USDC', 'preco': '$0.9999', 'var_1h': '0.00%', 'var_24h': '-0.05%', 'var_7d': '-0.01%', 'market_cap': '$28,436,842,988', 'volume': '$3,825,468,963'}, 'XRP': {'nome': 'XRP', 'codigo': 'XRP', 'preco': '$0.488', 'var_1h': '-0.41%', 'var_24h': '-2.24%', 'var_7d': '5.21%', 'market_cap': '$25,422,511,959', 'volume': '$945,831,500'}, 'Cardano': {'nome': 'Cardano', 'codigo': 'ADA', 'preco': '$0.2893', 'var_1h': '-0.61%', 'var_24h': '-1.63%', 'var_7d': '12.42%', 'market_cap': '$10,105,730,989', 'volume': '$197,525,447'}, 'Dogecoin': {'nome': 'Dogecoin', 'codigo': 'DOGE', 'preco': '$0.0658', 'var_1h': '-0.23%', 'var_24h': '-1.25%', 'var_7d': '7.41%', 'market_cap': '$9,203,858,861', 'volume': '$225,957,014'}, 'Solana': {'nome': 'Solana', 'codigo': 'SOL', 'preco': '$16.28', 'var_1h': '-0.90%', 'var_24h': '-4.23%', 'var_7d': '11.46%', 'market_cap': '$6,508,167,382', 'volume': '$233,589,384'}, 'TRON': {'nome': 'TRON', 'codigo': 'TRX', 'preco': '$0.07193', 'var_1h': '-0.00%', 'var_24h': '-0.40%', 'var_7d': '3.50%', 'market_cap': '$6,473,115,430', 'volume': '$152,144,769'}}\n"
     ]
    }
   ],
   "source": [
    "moedas = {}  # dicionário para armazenar as moedas\n",
    "\n",
    "for linha in linhas:\n",
    "    try:\n",
    "        valores = linha.find_all(string=re.compile(\"\\$\"))  # seleciona todos os valores\n",
    "        percentuais = linha.find_all(string=re.compile(\"%\"))  # seleciona todos os percentuais\n",
    "        \n",
    "        # Verifica se o percentual é negativo e aplica o sinal negativo\n",
    "        for i, percentual in enumerate(percentuais):\n",
    "            if \"bQjSqS\" in percentual.parent['class']:\n",
    "                percentuais[i] = '-' + percentual\n",
    "\n",
    "        nome = linha.find(class_=\"kKpPOn\").text  # nome da moeda\n",
    "        codigo = linha.find(class_=\"coin-item-symbol\").text  # código da moeda\n",
    "        preco = valores[0]  # preço da moeda\n",
    "        var_1h = percentuais[0]  # variação em 1h\n",
    "        var_24h = percentuais[1]  # variação em 24h\n",
    "        var_7d = percentuais[2]  # variação em 7d\n",
    "        market_cap = valores[2]  # market cap\n",
    "        volume = valores[3]  # volume\n",
    "\n",
    "        dic = {'nome': nome, \n",
    "               'codigo': codigo, \n",
    "               'preco': preco, \n",
    "               'var_1h': var_1h, \n",
    "               'var_24h': var_24h, \n",
    "               'var_7d': var_7d, \n",
    "               'market_cap': market_cap, \n",
    "               'volume': volume}\n",
    "        \n",
    "        moedas[nome] = dic  # adiciona a moeda ao dicionário\n",
    "\n",
    "    except AttributeError:\n",
    "        break\n",
    "\n",
    "print(moedas)"
   ]
  },
  {
   "cell_type": "markdown",
   "metadata": {},
   "source": [
    "O resultado está pronto para ser exportado como JSON para uma API."
   ]
  }
 ],
 "metadata": {
  "kernelspec": {
   "display_name": "Python 3",
   "language": "python",
   "name": "python3"
  },
  "language_info": {
   "codemirror_mode": {
    "name": "ipython",
    "version": 3
   },
   "file_extension": ".py",
   "mimetype": "text/x-python",
   "name": "python",
   "nbconvert_exporter": "python",
   "pygments_lexer": "ipython3",
   "version": "3.11.4"
  },
  "orig_nbformat": 4
 },
 "nbformat": 4,
 "nbformat_minor": 2
}
